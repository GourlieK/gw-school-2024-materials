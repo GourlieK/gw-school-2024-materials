{
 "cells": [
  {
   "cell_type": "markdown",
   "metadata": {},
   "source": [
    "# Import Useful Packages"
   ]
  },
  {
   "cell_type": "code",
   "execution_count": null,
   "metadata": {},
   "outputs": [],
   "source": [
    "import numpy as np\n",
    "import matplotlib.pyplot as plt\n",
    "from enterprise.pulsar import Pulsar\n",
    "from enterprise_extensions import blocks\n",
    "import pickle\n",
    "import NimaClass as nc\n",
    "from astropy.coordinates import SkyCoord\n",
    "from astropy import units as u\n",
    "from enterprise.signals import gp_signals, signal_base\n",
    "from PTMCMCSampler.PTMCMCSampler import PTSampler as ptmcmc\n",
    "from enterprise_extensions import sampler as samp\n",
    "import sim\n",
    "import corner\n",
    "%load_ext autoreload\n",
    "%autoreload 2"
   ]
  },
  {
   "cell_type": "markdown",
   "metadata": {},
   "source": [
    "# Plotting Settings"
   ]
  },
  {
   "cell_type": "markdown",
   "metadata": {},
   "source": [
    "Note: If you do not like a dark_background for your plots, do not run `plt.style.use('dark_background')`"
   ]
  },
  {
   "cell_type": "code",
   "execution_count": null,
   "metadata": {},
   "outputs": [],
   "source": [
    "%matplotlib inline\n",
    "%config InlineBackend.figure_format = 'retina'\n",
    "plt.style.use('dark_background')\n",
    "hist_settings = dict(\n",
    "    bins = 40,\n",
    "    histtype = 'step',\n",
    "    lw = 3,\n",
    "    density = True\n",
    ")"
   ]
  },
  {
   "cell_type": "markdown",
   "metadata": {},
   "source": [
    "# <center>ENTERPRISE: a PTA Data Analysis Tool"
   ]
  },
  {
   "cell_type": "markdown",
   "metadata": {},
   "source": [
    "## Input"
   ]
  },
  {
   "cell_type": "markdown",
   "metadata": {},
   "source": [
    "### In case you have par & tim files:"
   ]
  },
  {
   "cell_type": "code",
   "execution_count": null,
   "metadata": {},
   "outputs": [],
   "source": [
    "# psrs = []\n",
    "# # Path to tim file(s)\n",
    "# timfiles = sorted(glob.glob('...' + '/*.tim'))\n",
    "# # Path to par file(s)\n",
    "# parfiles = sorted(glob.glob('...'+ '/*.par'))\n",
    "# for p, t in zip(parfiles, timfiles):\n",
    "#     psrs.append(Pulsar(p, t, ephem = None , clk=None))"
   ]
  },
  {
   "cell_type": "markdown",
   "metadata": {},
   "source": [
    "### In case you have a pickle file of the psrs object"
   ]
  },
  {
   "cell_type": "code",
   "execution_count": null,
   "metadata": {},
   "outputs": [],
   "source": [
    "with open('./Data/sim_ng_psrs.pkl', 'rb') as fin:\n",
    "    psrs = pickle.load(fin)\n",
    "psrs"
   ]
  },
  {
   "cell_type": "markdown",
   "metadata": {},
   "source": [
    "## Exploring the `psrs` object "
   ]
  },
  {
   "cell_type": "code",
   "execution_count": null,
   "metadata": {},
   "outputs": [],
   "source": [
    "## all the atributes of the psrs object\n",
    "dir(psrs[0])"
   ]
  },
  {
   "cell_type": "code",
   "execution_count": null,
   "metadata": {},
   "outputs": [],
   "source": [
    "## number of pulsars\n",
    "Npulsars = len(psrs)\n",
    "Npulsars"
   ]
  },
  {
   "cell_type": "code",
   "execution_count": null,
   "metadata": {},
   "outputs": [],
   "source": [
    "## name of the pulsars\n",
    "psrlist = [psr.name for psr in psrs]\n",
    "psrlist"
   ]
  },
  {
   "cell_type": "code",
   "execution_count": null,
   "metadata": {},
   "outputs": [],
   "source": [
    "## toas and residuals\n",
    "for psr in psrs[:5]:\n",
    "    plt.plot(psr.toas/(86400), psr.residuals)\n",
    "    plt.title(psr.name)\n",
    "    plt.xlabel('TOAs [MJD]')\n",
    "    plt.ylabel('Timing Residuals (s)')\n",
    "    plt.tight_layout()\n",
    "    plt.show()"
   ]
  },
  {
   "cell_type": "code",
   "execution_count": null,
   "metadata": {},
   "outputs": [],
   "source": [
    "## pulsars' sky location\n",
    "dec = np.array([psr._decj for psr in psrs])\n",
    "ra = np.array([psr._raj for psr in psrs])"
   ]
  },
  {
   "cell_type": "code",
   "execution_count": null,
   "metadata": {},
   "outputs": [],
   "source": [
    "sc = SkyCoord(ra = ra , dec = dec, unit = 'rad', frame='icrs')\n",
    "plt.figure(figsize=(12, 6))\n",
    "plt.subplot(projection=\"aitoff\")\n",
    "\n",
    "c = SkyCoord(ra*180/np.pi, dec*180/np.pi, unit = 'deg', frame='icrs')\n",
    "ra_rad = c.ra.wrap_at(180 * u.deg).radian\n",
    "dec_rad = c.dec.radian\n",
    "plt.scatter(ra_rad  , dec_rad,marker=(5, 2),color = 'r',label = 'Pulsars')\n",
    "\n",
    "plt.xticks(ticks=np.radians([-150, -120, -90, -60, -30, 0, \\\n",
    "                                30, 60, 90, 120, 150]),\n",
    "            labels=['10h', '8h', '6h', '4h', '2h', '0h', \\\n",
    "                    '22h', '20h', '18h', '16h', '14h'])\n",
    "\n",
    "plt.xlabel('Right Ascension in hours')\n",
    "plt.ylabel('Declination in deg.')\n",
    "plt.grid(True)\n",
    "plt.legend(loc = 'upper right')\n",
    "plt.tight_layout()\n",
    "plt.show()"
   ]
  },
  {
   "cell_type": "code",
   "execution_count": null,
   "metadata": {},
   "outputs": [],
   "source": [
    "## Pulsar distances and their error (mean, std)\n",
    "[psr.pdist for psr in psrs]"
   ]
  },
  {
   "cell_type": "code",
   "execution_count": null,
   "metadata": {
    "collapsed": true,
    "jupyter": {
     "outputs_hidden": true
    },
    "tags": []
   },
   "outputs": [],
   "source": [
    "## TOA errors in seconds\n",
    "[psr.toaerrs for psr in psrs]"
   ]
  },
  {
   "cell_type": "code",
   "execution_count": null,
   "metadata": {
    "tags": []
   },
   "outputs": [],
   "source": [
    "## The observing baseline for each pulsar (in years)\n",
    "tspans = np.array([(psr.toas.max() - psr.toas.min())/(86400 * 365.25) for psr in psrs])\n",
    "tspans"
   ]
  },
  {
   "cell_type": "markdown",
   "metadata": {},
   "source": [
    "# <center>PTA Detection Terminology"
   ]
  },
  {
   "cell_type": "markdown",
   "metadata": {},
   "source": [
    "The goal of detection is to assess the statistical significance of various types of <span style=\"color:red\">red noise processes</span>. To achieve this goal, we need to make sure we understand a few topics defined within the context of pulsar timing experiments."
   ]
  },
  {
   "cell_type": "markdown",
   "metadata": {},
   "source": [
    "## Topic 1: What is a noise process?"
   ]
  },
  {
   "cell_type": "markdown",
   "metadata": {},
   "source": [
    "A noise process is a series of random numbers which are completely independent of each other. This means you cannot predict the future given the past, in complete contrast to deterministic processes. "
   ]
  },
  {
   "cell_type": "markdown",
   "metadata": {},
   "source": [
    "We deal with two types of noise processes:\n",
    "1. White (Gaussian) Noise: random numbers drawn from a Gaussian distribution with the property that their spectral power is constant across all frequencies.\n",
    "2. Red Noise: a linear combination of white noise processes filtered in a way that its spectral power decreases with increasing frequencies.\n",
    "\n",
    "In case you are not familiar with spectral power, you can think of it as a measure of the strength of the signal that the series of random numbers represent. This power is defined in the frequency domain. It is an extremely important quantity!"
   ]
  },
  {
   "cell_type": "markdown",
   "metadata": {},
   "source": [
    "### White Noise"
   ]
  },
  {
   "cell_type": "markdown",
   "metadata": {},
   "source": [
    "$\\Large w_{\\underbrace{I}_{\\text{pulsar index}}}$"
   ]
  },
  {
   "cell_type": "code",
   "execution_count": null,
   "metadata": {},
   "outputs": [],
   "source": [
    "draws = int(1e6)\n",
    "wn = np.random.normal(loc = 0, scale = .2, size = draws)\n",
    "t = np.linspace(0, 5400, draws)\n",
    "\n",
    "idxs = np.random.randint(0, draws, 500)\n",
    "fig, ax = plt.subplots(nrows = 1, ncols = 2, figsize = (6*2, 6))\n",
    "ax[0].hist(wn, **hist_settings)\n",
    "ax[0].set_title('White Noise -- Probability Distribution')\n",
    "ax[1].scatter(t[idxs], wn[idxs])\n",
    "ax[1].set_title('White Noise -- The Process')\n",
    "ax[0].set_xlabel('White Noise values')\n",
    "ax[1].set_xlabel('Time')\n",
    "ax[0].set_ylabel('Density')\n",
    "ax[1].set_ylabel('White Noise values')\n",
    "plt.tight_layout()\n",
    "plt.show()"
   ]
  },
  {
   "cell_type": "markdown",
   "metadata": {},
   "source": [
    "### Red Noise\n",
    "$\\Large r_I(f) = c_I(f)w_I(f)$"
   ]
  },
  {
   "cell_type": "markdown",
   "metadata": {},
   "source": [
    "$\\Large {\\underbrace{c_I}_{\\text{filtering function that sets the spectral power}}}$"
   ]
  },
  {
   "cell_type": "markdown",
   "metadata": {},
   "source": [
    "### Note:"
   ]
  },
  {
   "cell_type": "markdown",
   "metadata": {},
   "source": [
    "1. When dealing with noise, the concept of <span style=\"color:red\">realization</span> becomes important. One can construct infinite number of unique-looking signals in the time-domain all of which possessing the same spectral properties (e.g., identical spectral power). A realization of a noise process is one out of infinite number of such possibilities. When doing computation, changing the seed of a random number generator changes the realization of the noise process made out of the random numbers."
   ]
  },
  {
   "cell_type": "markdown",
   "metadata": {},
   "source": [
    "2. The mean of a red noise process is not zero, unlike a white noise process, if you take the mean over a single realization. In theory, a true red noise process is a zero-mean process if the mean is taken over many realizations. Make sure you understand the difference between them!"
   ]
  },
  {
   "cell_type": "markdown",
   "metadata": {},
   "source": [
    "## Topic 2: What is a common red noise process?\n",
    "$\\Large r_I(f) = c(f)w_I(f)$"
   ]
  },
  {
   "cell_type": "markdown",
   "metadata": {},
   "source": [
    "Definition: If different realizations of the same red noise process exist between different pulsars' timing residuals, the process is called a common red noise process. "
   ]
  },
  {
   "cell_type": "markdown",
   "metadata": {},
   "source": [
    "Question: How to go about checking if multiple realizations of the same red noise process exist in different pulsars? What statistical quantity could reveal such information?"
   ]
  },
  {
   "cell_type": "markdown",
   "metadata": {},
   "source": [
    "Note: note the difference between how $r_I$ is defined as a common red noise versus as a red noise."
   ]
  },
  {
   "cell_type": "markdown",
   "metadata": {},
   "source": [
    "## Topic 3: What is a common correlated red noise process?"
   ]
  },
  {
   "cell_type": "markdown",
   "metadata": {},
   "source": [
    "$\\Large r_I(f) = c(f)\\sum_{J}\\Gamma_{IJ}w_J(f)$"
   ]
  },
  {
   "cell_type": "markdown",
   "metadata": {},
   "source": [
    "$\\Large {\\underbrace{\\Gamma_{IJ}}_{\\text{a non-diagonal matrix}}}$"
   ]
  },
  {
   "cell_type": "markdown",
   "metadata": {},
   "source": [
    "Definition: if a pair of two different realizations of the same red noise process are correlated, the red noise process between the pair is called a common correlated red noise process. "
   ]
  },
  {
   "cell_type": "markdown",
   "metadata": {},
   "source": [
    "If the non-diagonal elements of the matrix $\\large \\Gamma$ depend on pulsar pairs' angular separation, the correlation is called spatial correlation. This type of correlation is searched for in PTA GWB analyses."
   ]
  },
  {
   "cell_type": "markdown",
   "metadata": {},
   "source": [
    "## Topic 4: What is an intrinsic red noise process?"
   ]
  },
  {
   "cell_type": "markdown",
   "metadata": {},
   "source": [
    "Definition: a red noise process that is not common between pulsars"
   ]
  },
  {
   "cell_type": "markdown",
   "metadata": {},
   "source": [
    "## Topic 5: What is spectral power?"
   ]
  },
  {
   "cell_type": "markdown",
   "metadata": {},
   "source": [
    "Spectral power, power spectral density, and PSD all refer to the same quantity. As described earlier, PSD is a measure of a noise process's strength defined in the frequency domain. Mathematically,"
   ]
  },
  {
   "cell_type": "markdown",
   "metadata": {},
   "source": [
    "$\\Large \\langle r_I(f)r_I^*(f')\\rangle  = \\delta(f-f') \\times \\text{PSD} $,"
   ]
  },
  {
   "cell_type": "markdown",
   "metadata": {},
   "source": [
    "where $\\delta$ is the kronecker delta function."
   ]
  },
  {
   "cell_type": "markdown",
   "metadata": {},
   "source": [
    "You can model a red noise's PSD in any shape you want as long as the value of PSD decreases with increasing frequency. The two simplest and the most used models are \n",
    "1. Powerlaw model\n",
    "\n",
    "2. Free spectral model\n",
    "The choice for the way you model PSD of a red noise process could be astrophysically motivated. You will hear about this in future tutorials!"
   ]
  },
  {
   "cell_type": "markdown",
   "metadata": {},
   "source": [
    "### Powerlaw Model of PSD"
   ]
  },
  {
   "cell_type": "markdown",
   "metadata": {},
   "source": [
    "$\\Large P(f_k) = \\frac{A^2}{12 \\pi^2 f_k^3} \\left( \\frac{f_k}{f_{\\text{ref}}}\\right)^{3-\\gamma},$"
   ]
  },
  {
   "cell_type": "markdown",
   "metadata": {},
   "source": [
    "$k$ is the frequency index, $A$ is the amplitude, $f_\\text{ref}$ is the reference frequency (typically 1/1yr), and $\\gamma$ is the spectral index which must be a positive number."
   ]
  },
  {
   "cell_type": "markdown",
   "metadata": {},
   "source": [
    "### Free-spectral Model of PSD"
   ]
  },
  {
   "cell_type": "markdown",
   "metadata": {},
   "source": [
    "$\\Large P(f_k) = T_{\\text{obs}}\\rho_k^2$"
   ]
  },
  {
   "cell_type": "markdown",
   "metadata": {},
   "source": [
    "$T_{\\text{obs}}$ is the observational time and $\\rho_k^2$ is the value of PSD at frequency-bin $k$. Notice the difference between a powerlaw model and a free-spectral model. In a free-spectral model, each frequency-bin is allowed to have its own PSD independent of other bins."
   ]
  },
  {
   "cell_type": "markdown",
   "metadata": {},
   "source": [
    "## Noise Modeling Using ENTERPRISE"
   ]
  },
  {
   "cell_type": "markdown",
   "metadata": {},
   "source": [
    "$\\Large R(t) = M \\epsilon + Fa + \\text{WN} $"
   ]
  },
  {
   "cell_type": "markdown",
   "metadata": {},
   "source": [
    "### Timing Model"
   ]
  },
  {
   "cell_type": "markdown",
   "metadata": {},
   "source": [
    "When we construct a timing model for a pulsar, we have uncertainties about our model. This uncertainty $\\epsilon$ needs to be taken into consideration in any noise modeling that we do.\n",
    "The matrix $M$ is the design-matrix containing the bases of the timing model parameters."
   ]
  },
  {
   "cell_type": "code",
   "execution_count": null,
   "metadata": {},
   "outputs": [],
   "source": [
    "tm = gp_signals.MarginalizingTimingModel(use_svd=True)"
   ]
  },
  {
   "cell_type": "markdown",
   "metadata": {},
   "source": [
    "### White Noise"
   ]
  },
  {
   "cell_type": "code",
   "execution_count": null,
   "metadata": {},
   "outputs": [],
   "source": [
    "## Do you need to vary the parameters that describe white noise (EFAC, EQUAD, and ECORR are the params)?\n",
    "vary = False\n",
    "if not vary:\n",
    "    noise_dict = {}\n",
    "    for pname in psrlist:\n",
    "        noise_dict.update({pname + '_efac': 1.0})\n",
    "        noise_dict.update({pname + '_log10_t2equad': -np.inf})\n",
    "## Do you need to include ECORR noise (do not worry if you do not know what ECORR is!)?\n",
    "inc_ecorr = False\n",
    "## Do you want to use different backends for the telescopes?\n",
    "select = 'none'\n",
    "\n",
    "wn = blocks.white_noise_block(vary = vary, inc_ecorr = inc_ecorr, select = select)"
   ]
  },
  {
   "cell_type": "markdown",
   "metadata": {},
   "source": [
    "### Intrinsic Red Noise"
   ]
  },
  {
   "cell_type": "code",
   "execution_count": null,
   "metadata": {},
   "outputs": [],
   "source": [
    "## How do you want to model the spectral power of your red noise? \n",
    "psd = 'powerlaw'\n",
    "## What do you know about the prior for the parameters that describe the red noise?\n",
    "prior = 'log-uniform'\n",
    "## What frequencies do you want to consider in your model? It must be in seconds.\n",
    "number_of_bins = 30\n",
    "observing_time_to_use_in_freq_calculation = tspans.max() * 86400 * 365.25\n",
    "\n",
    "rn = blocks.red_noise_block(psd=psd, prior=prior, Tspan=observing_time_to_use_in_freq_calculation,\n",
    "                            components=number_of_bins)"
   ]
  },
  {
   "cell_type": "markdown",
   "metadata": {},
   "source": [
    "### Common Red Noise"
   ]
  },
  {
   "cell_type": "code",
   "execution_count": null,
   "metadata": {},
   "outputs": [],
   "source": [
    "## How do you want to model the spectral power of your red noise? \n",
    "psd = 'powerlaw'\n",
    "## What do you know about the prior for the parameters that describe the red noise?\n",
    "prior = 'log-uniform'\n",
    "## What frequencies do you want to consider in your model? It must be in seconds.\n",
    "number_of_bins = 5\n",
    "observing_time_to_use_in_freq_calculation = tspans.max() * 86400 * 365.25\n",
    "\n",
    "crn = blocks.common_red_noise_block(psd=psd, prior=prior, \n",
    "                                    Tspan=observing_time_to_use_in_freq_calculation, \n",
    "                                    components=number_of_bins,\n",
    "                                    name = 'crn')\n"
   ]
  },
  {
   "cell_type": "markdown",
   "metadata": {},
   "source": [
    "### Common Correlated Red Noise"
   ]
  },
  {
   "cell_type": "code",
   "execution_count": null,
   "metadata": {},
   "outputs": [],
   "source": [
    "## How do you want to model the spectral power of your red noise? \n",
    "psd = 'powerlaw'\n",
    "## What do you know about the prior for the parameters that describe the red noise?\n",
    "prior = 'log-uniform'\n",
    "## What frequencies do you want to consider in your model? It must be in seconds.\n",
    "number_of_bins = 5\n",
    "observing_time_to_use_in_freq_calculation = tspans.max() * 86400 * 365.25\n",
    "## What functional shape do you want the correlations to follow?\n",
    "corr = 'hd'\n",
    "\n",
    "ccrn = blocks.common_red_noise_block(psd=psd, prior=prior, \n",
    "                                    Tspan=observing_time_to_use_in_freq_calculation, \n",
    "                                    components=number_of_bins, orf = corr,\n",
    "                                    name = 'gw')\n"
   ]
  },
  {
   "cell_type": "markdown",
   "metadata": {},
   "source": [
    "### Build the Model"
   ]
  },
  {
   "cell_type": "code",
   "execution_count": null,
   "metadata": {},
   "outputs": [],
   "source": [
    "# data = tm + wn + rn\n",
    "#data = tm + wn + crn\n",
    "data = tm + wn + ccrn\n",
    "# data = tm + wn + rn + crn"
   ]
  },
  {
   "cell_type": "code",
   "execution_count": null,
   "metadata": {},
   "outputs": [],
   "source": [
    "## How many pulsars do you want to consider in your model?\n",
    "psrs_to_choose = psrs[:]\n",
    "## Build the model\n",
    "pta = signal_base.PTA([data(p) for p in psrs_to_choose])\n",
    "## You need to fix the white noise parameters if you chose not to vary them when defining `wn`\n",
    "if not vary:\n",
    "    pta.set_default_params(noise_dict)"
   ]
  },
  {
   "cell_type": "code",
   "execution_count": null,
   "metadata": {},
   "outputs": [],
   "source": [
    "pta.params"
   ]
  },
  {
   "cell_type": "markdown",
   "metadata": {},
   "source": [
    "### Calculate the log-liklihood of the model "
   ]
  },
  {
   "cell_type": "code",
   "execution_count": null,
   "metadata": {},
   "outputs": [],
   "source": [
    "x0 = np.hstack([p.sample() for p in pta.params])\n",
    "pta.get_lnlikelihood(x0)"
   ]
  },
  {
   "cell_type": "markdown",
   "metadata": {},
   "source": [
    "# MCMC Sampler"
   ]
  },
  {
   "cell_type": "code",
   "execution_count": null,
   "metadata": {},
   "outputs": [],
   "source": [
    "## Output directory\n",
    "outdir = './Chain'\n",
    "\n",
    "## Jump Proposals, groups, and MCMC Tunings\n",
    "ndim = len(x0)\n",
    "cov = np.diag(np.ones(ndim) * 0.01**2) # helps to tune MCMC proposal distribution\n",
    "\n",
    "pars = pta.param_names\n",
    "idx_orf_params0 = [list(pars).index(pp) for pp in pars if 'crn' in pp]\n",
    "groups = [list(np.arange(0, ndim))]\n",
    "[groups.append(idx_orf_params0) for ii in range(5)]\n",
    "\n",
    "## Initiate the sampler\n",
    "sampler = ptmcmc(ndim, pta.get_lnlikelihood, pta.get_lnprior, cov, groups = groups,\n",
    "                 outDir=outdir, \n",
    "                 resume=False)\n",
    "\n",
    "jp = samp.JumpProposal(pta)\n",
    "sampler.addProposalToCycle(jp.draw_from_prior, 15)\n",
    "sampler.addProposalToCycle(jp.draw_from_red_prior, 15)\n",
    "\n",
    "## Number of MCMC steps\n",
    "N = int(1e5)"
   ]
  },
  {
   "cell_type": "code",
   "execution_count": null,
   "metadata": {},
   "outputs": [],
   "source": [
    "#sampler.sample(x0, N, SCAMweight=30, AMweight=15, DEweight=50, )"
   ]
  },
  {
   "cell_type": "markdown",
   "metadata": {},
   "source": [
    "# <center>Detection Practice Outside ENTERPRISE"
   ]
  },
  {
   "cell_type": "markdown",
   "metadata": {},
   "source": [
    "## Simulate a Simple PTA Data Set"
   ]
  },
  {
   "cell_type": "code",
   "execution_count": null,
   "metadata": {},
   "outputs": [],
   "source": [
    "Npulsars = 5        ##number of pulsars\n",
    "observ_time = 20    ##years\n",
    "start_time = 5300   ##mjd\n",
    "cadence = 14        ##days\n",
    "Nrea = 10           ##number of realizations\n",
    "toas = np.array([np.arange(start_time, start_time + observ_time * 365.25, cadence) for _ in range(Npulsars)])\n",
    "\n",
    "wn_sig = 1e-7       ##white_noise level in seconds\n",
    "gwb_amplitude = 2e-15\n",
    "gwb_alpha = -2/3"
   ]
  },
  {
   "cell_type": "code",
   "execution_count": null,
   "metadata": {},
   "outputs": [],
   "source": [
    "lam, bet, pnames, locs = sim.UniformPulsarDist(Numpulsars=Npulsars, name =True)"
   ]
  },
  {
   "cell_type": "code",
   "execution_count": null,
   "metadata": {},
   "outputs": [],
   "source": [
    "s = sim.PTASIM(MG = 'TT', \n",
    "                    psrlist = pnames,\n",
    "                    toas = toas,\n",
    "                    psr_locs = locs.T, \n",
    "                    Amp = np.array([gwb_amplitude]),\n",
    "                    alpha = np.array([gwb_alpha]), \n",
    "                    wn_sig = wn_sig,\n",
    "                    Nrea = Nrea,\n",
    "                    seed = 15645789)"
   ]
  },
  {
   "cell_type": "code",
   "execution_count": null,
   "metadata": {},
   "outputs": [],
   "source": [
    "gw_res = s.total_res()"
   ]
  },
  {
   "cell_type": "code",
   "execution_count": null,
   "metadata": {},
   "outputs": [],
   "source": [
    "pidx = 3\n",
    "rea = 2\n",
    "\n",
    "plt.plot(toas[pidx], gw_res[rea][pidx])\n",
    "plt.title(pnames[pidx])\n",
    "plt.xlabel('TOAS [MJD]')\n",
    "plt.ylabel('Residuals [s]')\n",
    "plt.show()"
   ]
  },
  {
   "cell_type": "markdown",
   "metadata": {},
   "source": [
    "## Single-pulsar Ananlysis Using Gibbs Sampling"
   ]
  },
  {
   "cell_type": "code",
   "execution_count": null,
   "metadata": {},
   "outputs": [],
   "source": [
    "crn_bins = 5\n",
    "Gsamples = int(1e4)"
   ]
  },
  {
   "cell_type": "code",
   "execution_count": null,
   "metadata": {},
   "outputs": [],
   "source": [
    "BP = nc.BayesPower(nc.Nimapta(gw_res[rea][pidx], \n",
    "                        toas = toas[pidx], \n",
    "                        fit = False, \n",
    "                        psr_pos = locs[:, pidx],\n",
    "                        wn_sigma = wn_sig),\n",
    "                            crn_bins = crn_bins,\n",
    "                            Baseline = observ_time,\n",
    "                            inj_amp = gwb_amplitude,\n",
    "                            gamma = -1 * (2 * gwb_alpha - 3),\n",
    "                            num_samples = Gsamples)"
   ]
  },
  {
   "cell_type": "code",
   "execution_count": null,
   "metadata": {},
   "outputs": [],
   "source": [
    "_, rho = BP.gibbs_sampler(progress = True)"
   ]
  },
  {
   "cell_type": "code",
   "execution_count": null,
   "metadata": {},
   "outputs": [],
   "source": [
    "labs = [r'$0.5\\log10\\rho_{{{0}}}$'.format(_) for _ in range(1, crn_bins + 1)]\n",
    "labs"
   ]
  },
  {
   "cell_type": "markdown",
   "metadata": {},
   "source": [
    "## Post-processing the MCMC Output"
   ]
  },
  {
   "cell_type": "code",
   "execution_count": null,
   "metadata": {},
   "outputs": [],
   "source": [
    "corner.corner(rho.T, color='gold', bins=20, hist_bin_factor=2, hist_kwargs={'density': True, 'lw':2}, \n",
    "              contour_kwargs={'linewidths':2}, labels = labs, quantile = True,show_titles = True,\n",
    "              truth_color = 'white', desity = True, truths = BP.truth())\n",
    "plt.show()"
   ]
  },
  {
   "cell_type": "markdown",
   "metadata": {},
   "source": [
    "Make sure you know why the above plot looks how it looks!"
   ]
  }
 ],
 "metadata": {
  "kernelspec": {
   "display_name": "Python 3 (ipykernel)",
   "language": "python",
   "name": "python3"
  },
  "language_info": {
   "codemirror_mode": {
    "name": "ipython",
    "version": 3
   },
   "file_extension": ".py",
   "mimetype": "text/x-python",
   "name": "python",
   "nbconvert_exporter": "python",
   "pygments_lexer": "ipython3",
   "version": "3.10.5"
  }
 },
 "nbformat": 4,
 "nbformat_minor": 4
}
